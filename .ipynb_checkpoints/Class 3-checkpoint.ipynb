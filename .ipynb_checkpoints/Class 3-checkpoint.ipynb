{
 "cells": [
  {
   "cell_type": "markdown",
   "id": "801828ce-0e1a-4bb6-87d4-9d3849836957",
   "metadata": {},
   "source": [
    "# Linked Lists\n",
    "In general, there are two varieties of *linked lists*:\n",
    "1. Singly linked lists (_or unidirectional lists_).\n",
    "2. Doubly linked lists (_or bi_directional lists_)."
   ]
  },
  {
   "cell_type": "code",
   "execution_count": 4,
   "id": "df0d022e-98b8-45a9-9659-f6dfef2f2735",
   "metadata": {},
   "outputs": [
    {
     "name": "stdout",
     "output_type": "stream",
     "text": [
      "[0, 1, 2, 3, 4, 5, 6, 7, 8, 9, 10]\n"
     ]
    }
   ],
   "source": [
    "mylist = []\n",
    "\n",
    "# help(mylist)\n",
    "    \n",
    "for number in range(11):\n",
    "    mylist.append(number)\n",
    "\n",
    "print(mylist)\n",
    "\n",
    "# Print(mylist[2])"
   ]
  },
  {
   "cell_type": "code",
   "execution_count": 7,
   "id": "edcb20ca-41fe-4129-8932-9b7a9b5e2862",
   "metadata": {},
   "outputs": [
    {
     "ename": "NameError",
     "evalue": "name 'self' is not defined",
     "output_type": "error",
     "traceback": [
      "\u001b[31m---------------------------------------------------------------------------\u001b[39m",
      "\u001b[31mNameError\u001b[39m                                 Traceback (most recent call last)",
      "\u001b[36mCell\u001b[39m\u001b[36m \u001b[39m\u001b[32mIn[7]\u001b[39m\u001b[32m, line 3\u001b[39m\n\u001b[32m      1\u001b[39m \u001b[38;5;66;03m# Singly Linked List (without relying on built-ins)\u001b[39;00m\n\u001b[32m----> \u001b[39m\u001b[32m3\u001b[39m \u001b[38;5;28;43;01mclass\u001b[39;49;00m\u001b[38;5;250;43m \u001b[39;49m\u001b[34;43;01mSinglyLinkedList\u001b[39;49;00m\u001b[43m:\u001b[49m\n\u001b[32m      4\u001b[39m \u001b[43m    \u001b[49m\u001b[38;5;28;43;01mclass\u001b[39;49;00m\u001b[38;5;250;43m \u001b[39;49m\u001b[34;43;01m__Node\u001b[39;49;00m\u001b[43m:\u001b[49m\n\u001b[32m      5\u001b[39m \u001b[43m        \u001b[49m\u001b[38;5;28;43;01mdef\u001b[39;49;00m\u001b[38;5;250;43m \u001b[39;49m\u001b[34;43m__init__\u001b[39;49m\u001b[43m(\u001b[49m\u001b[38;5;28;43mself\u001b[39;49m\u001b[43m,\u001b[49m\u001b[43m \u001b[49m\u001b[43mdatum\u001b[49m\u001b[43m)\u001b[49m\u001b[43m:\u001b[49m\n",
      "\u001b[36mCell\u001b[39m\u001b[36m \u001b[39m\u001b[32mIn[7]\u001b[39m\u001b[32m, line 9\u001b[39m, in \u001b[36mSinglyLinkedList\u001b[39m\u001b[34m()\u001b[39m\n\u001b[32m      6\u001b[39m         \u001b[38;5;28mself\u001b[39m.datum = datum\n\u001b[32m      7\u001b[39m         \u001b[38;5;28mself\u001b[39m.next = \u001b[38;5;28;01mNone\u001b[39;00m\n\u001b[32m----> \u001b[39m\u001b[32m9\u001b[39m \u001b[38;5;28;01mclass\u001b[39;00m\u001b[38;5;250m \u001b[39m\u001b[34;01m__init__\u001b[39;00m(\u001b[38;5;28;43mself\u001b[39;49m):\n\u001b[32m     10\u001b[39m     \u001b[38;5;28mself\u001b[39m.head = \u001b[38;5;28;01mNone\u001b[39;00m\n\u001b[32m     11\u001b[39m     \u001b[38;5;28mself\u001b[39m.tail = \u001b[38;5;28;01mNone\u001b[39;00m\n",
      "\u001b[31mNameError\u001b[39m: name 'self' is not defined"
     ]
    }
   ],
   "source": [
    "# Singly Linked List (without relying on built-ins)\n",
    "\n",
    "class SinglyLinkedList:\n",
    "    class __Node:\n",
    "        def __init__(self, datum):\n",
    "            self.datum = datum\n",
    "            self.next = None\n",
    "\n",
    "    class __init__(self):\n",
    "        self.head = None\n",
    "        self.tail = None\n",
    "        # Consider these?\n",
    "        # self.size = 0\n",
    "\n",
    "    def append(self, value):\n",
    "        # adds a new node at the tail of our list.\n",
    "        new_node = self.__Node(value)\n",
    "        if not self.head:\n",
    "            self.head = new_node\n",
    "            self.tail = new_node\n",
    "        else:\n",
    "            self.tail.next = new_node\n",
    "            self.tail = new_node\n",
    "            \n",
    "\n",
    "    def insert(self, index, value):\n",
    "        # We replace the head node, we can add anywhere in the middle of the list, or we can append, with this method.\n",
    "        new_node = self.__Node(value)\n",
    "        if not self.head:\n",
    "            self.head = new_node\n",
    "            self.tail = new_node\n",
    "        elif index == 0:\n",
    "            new_node.next = self.head\n",
    "            self.head = new_node\n",
    "        else:\n",
    "            prev = None\n",
    "            current = self.head\n",
    "            found = False\n",
    "            count = 0\n",
    "            while current.next and not found:\n",
    "                if count == index:\n",
    "                    found = True\n",
    "                else:\n",
    "                    prev = current\n",
    "                    current = current.next\n",
    "                    count += 1\n",
    "            if found:\n",
    "                prev.next = new_node\n",
    "                new_node.next = current\n",
    "            else: \n",
    "                current.next = new_node\n",
    "                self.tail = new_node\n",
    "        \n",
    "    def remove(self):\n",
    "        # Removes the first instance of \"value\" from the list.\n",
    "        pass\n",
    "\n",
    "    def index(self):\n",
    "        # Returns the index (or the position) of the target value in the list.\n",
    "        pass\n",
    "\n",
    "    def __len__(self):\n",
    "        # Returns the number of nodes in the list.\n",
    "        return 1\n",
    "\n",
    "    def __str__(self):\n",
    "        # Renders the list as a string, IE [1, 2, 3, 4]\n",
    "        return \"\"\n",
    "\n",
    "    def __getitem__(self):\n",
    "        # Allows us to access a specific index in the list, IE through: mylist[2]\n",
    "        return None"
   ]
  },
  {
   "cell_type": "markdown",
   "id": "7db4e2fe-8ef4-4eb8-97db-e6e51285e084",
   "metadata": {},
   "source": [
    "### Homework: Get to the same point, with \"DoublyLinkedList\" by next class, meaning: implement at least append and insert."
   ]
  },
  {
   "cell_type": "code",
   "execution_count": null,
   "id": "3a0285ab-6668-4a14-af88-2b45b231a735",
   "metadata": {},
   "outputs": [],
   "source": [
    "# DoublyLinkedList Homework Assignment\n",
    "\n",
    "def DoublyLinkedList:\n",
    "    class __Node:\n",
    "        def __init__(self, datum):\n",
    "            self.datum = datum\n",
    "            self.next = None\n",
    "\n",
    "    class __init__(self):\n",
    "        self.head = None\n",
    "        self.tail = None\n",
    "\n",
    "    def append(self, value):\n",
    "        pass\n",
    "\n",
    "    def index(self, index, value):\n",
    "        pass\n",
    "    "
   ]
  }
 ],
 "metadata": {
  "kernelspec": {
   "display_name": "Python 3 (ipykernel)",
   "language": "python",
   "name": "python3"
  },
  "language_info": {
   "codemirror_mode": {
    "name": "ipython",
    "version": 3
   },
   "file_extension": ".py",
   "mimetype": "text/x-python",
   "name": "python",
   "nbconvert_exporter": "python",
   "pygments_lexer": "ipython3",
   "version": "3.12.3"
  }
 },
 "nbformat": 4,
 "nbformat_minor": 5
}
