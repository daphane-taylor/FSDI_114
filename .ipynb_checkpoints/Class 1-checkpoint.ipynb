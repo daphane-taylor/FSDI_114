{
 "cells": [
  {
   "cell_type": "markdown",
   "id": "ed93f615-9f80-4f41-8793-6b95e69b46c8",
   "metadata": {},
   "source": [
    "# Problem 1\n",
    "\n",
    "## Anagram check\n",
    "Given two strings, determine if these are anagrams of each other, considering the following criteria:\n",
    "\n",
    "### Criteria\n",
    "Two strings are anagrams of each other if all the criteria below are met:\n",
    "1. They must use the same letters the same amount of times.\n",
    "2. They must be of equal length in terms of letters.\n",
    "```\n",
    "Examples:\n",
    "heart and earth\n",
    "cars and scar\n",
    "rats and star\n",
    "```"
   ]
  },
  {
   "cell_type": "code",
   "execution_count": 1,
   "id": "a7b3d0af-389e-4b2e-a25c-3b17b0c21f10",
   "metadata": {},
   "outputs": [],
   "source": [
    "# Poor solutions - Resist the urge to come up with a \"clever\" solution\n",
    "def anagram_check(string1, string2):\n",
    "    return sorted(string1) == sorted(string2)"
   ]
  },
  {
   "cell_type": "code",
   "execution_count": 3,
   "id": "30a20a5a-f011-47bc-80b2-c148e7bb6a83",
   "metadata": {},
   "outputs": [
    {
     "data": {
      "text/plain": [
       "False"
      ]
     },
     "execution_count": 3,
     "metadata": {},
     "output_type": "execute_result"
    }
   ],
   "source": [
    "anagram_check(\"I am Lord Voldemort\", \"Tom Marvolo Riddle\")"
   ]
  },
  {
   "cell_type": "code",
   "execution_count": 4,
   "id": "dfd278bc-27fc-4614-8425-0daaab531cb1",
   "metadata": {},
   "outputs": [],
   "source": [
    "# Design our solution (assembly)\n",
    "\n",
    "# Define function \"anagram_check\" with parameters str1 nd str2:\n",
    "#     str1 = str1 without spaces in lower case\n",
    "#     str2 = str2 without spaces in lower case\n",
    "#     if str1 is not of equal length to str2:\n",
    "#         return False\n",
    "#     dict1 = new dictionary\n",
    "#     dict2 = new dictionary\n",
    "#     for each \"number\" in the range from 0 to the length of str1:\n",
    "#         if the character at position \"number\" in str1 is not in dict1:\n",
    "#             add that character as a key to dict1 and set it's value to 1\n",
    "#         otherwise:\n",
    "#             add a 1 to the value associate with that character\n",
    "#         if the character at position \"number\" in str2 is not in dict2:\n",
    "#             add that character as a key to dict2 and set it's value to 1\n",
    "#         otherwise:\n",
    "#             add a 1 to the value associate with that character\n",
    "#         if dict1 is equal to dict2:\n",
    "#             return True\n",
    "#         otherwise:\n",
    "#             return False"
   ]
  },
  {
   "cell_type": "code",
   "execution_count": 13,
   "id": "c9a762fb-bc58-42af-b1f1-253303abcdfa",
   "metadata": {},
   "outputs": [
    {
     "name": "stdout",
     "output_type": "stream",
     "text": [
      "True\n",
      "False\n",
      "True\n",
      "False\n"
     ]
    }
   ],
   "source": [
    "# CLASS 1 HOMEWORK:\n",
    "# Convert the pseudocode above into real code.\n",
    "\n",
    "def anagram_check(str1,str2):\n",
    "    if len(str1) != len(str2):\n",
    "        return False\n",
    "    else:\n",
    "        return True\n",
    "\n",
    "def check_same_char_length(str1,str2):\n",
    "    dict1 = {}\n",
    "    dict2 = {}\n",
    "\n",
    "    for i in range(len(str1)):\n",
    "        if str1[i] not in dict1:\n",
    "            dict1[str1[i]] = 1\n",
    "        else:\n",
    "            dict1[str1[i]] += 1\n",
    "\n",
    "        if str2[i] not in dict2:\n",
    "            dict2[str2[i]] = 1\n",
    "        else:\n",
    "            dict2[str2[i]] += 1\n",
    "\n",
    "        if dict1 == dict2:\n",
    "            return True\n",
    "    \n",
    "    return False\n",
    "\n",
    "\n",
    "\n",
    "print(check_same_char_length(\"hello\", \"olleh\")) # Output: True\n",
    "\n",
    "print(check_same_char_length(\"hello\", \"world\")) # Output: False\n",
    "\n",
    "print(check_same_char_length(\"lite\", \"tile\")) # Output: True\n",
    "\n",
    "print(check_same_char_length(\"happy\", \"puppy\")) # Output: False"
   ]
  },
  {
   "cell_type": "raw",
   "id": "5dbb4853-59eb-4836-b381-bd2ea9f47770",
   "metadata": {},
   "source": []
  }
 ],
 "metadata": {
  "kernelspec": {
   "display_name": "Python 3 (ipykernel)",
   "language": "python",
   "name": "python3"
  },
  "language_info": {
   "codemirror_mode": {
    "name": "ipython",
    "version": 3
   },
   "file_extension": ".py",
   "mimetype": "text/x-python",
   "name": "python",
   "nbconvert_exporter": "python",
   "pygments_lexer": "ipython3",
   "version": "3.12.3"
  }
 },
 "nbformat": 4,
 "nbformat_minor": 5
}
