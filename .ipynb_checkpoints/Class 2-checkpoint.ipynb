{
 "cells": [
  {
   "cell_type": "markdown",
   "id": "6243c59d-8fc9-44ca-9258-06ad47ebfc44",
   "metadata": {},
   "source": [
    "# Stacks and Queues\n",
    "1. _*Stack*_: A stack is an ordered collection where items are added and removed from the _top_.<br>\n",
    "       - The ordering principle is represented by the acronym LIFO (_Last In, First Out_)<br>\n",
    "       - _Example_: A Pringles can, you can only add or remove chips from the top of the can.<br>\n",
    "       - Items at the top of the stack are referred to as the _top_ and items on the bottom the _base_.<br>\n",
    "       - Adding items in a stack (_via push_) adds an item to the top of the stack.<br>\n",
    "       - Removing items Out of a stack (_via pop_) takes an item from the top and returns it to the user.<br><br> \n",
    "2. _*Queue*_: A Queue is an ordered collection where items are added at the back and removed from the front.<br>\n",
    "       - The ordering principle is represented by the acronym FIFO (_First In, First Out_)<br>\n",
    "       - _Example_: Checkout Lines, Cafeteria Lines, Drive Thrus, Etc.<br>\n",
    "       - Items at the end of a queue are referred to as the _back or rear_ and items at the beginning the _front_.<br>\n",
    "       - Adding items in a queue (_via_enqueue_) adds an item to the back of the queue. No matter how many items you add to the queue, they'll always be placed behind the previous item you added.<br>\n",
    "       - Removing items from the queue (_via_dequeue_) takes an item from the front of the queue. Meaning the 1st item you added to the queue will be removed. It will always remove the 1st item of the queue unless its the only item left in the queue, which would leave you with an empty queue.\n",
    "\n",
    "\n",
    "       "
   ]
  },
  {
   "cell_type": "code",
   "execution_count": 4,
   "id": "c2c46095-bdfd-4207-a340-de442d360f7c",
   "metadata": {},
   "outputs": [],
   "source": [
    "# Simplified implementation of Stack (relying on built-ins)\n",
    "\n",
    "class Stack:\n",
    "    def __init__(self):\n",
    "        self.items = []\n",
    "\n",
    "    def push(self, value):\n",
    "        self.items.append(value)\n",
    "\n",
    "    def pop(self):\n",
    "        return self.items.pop()\n",
    "\n",
    "    # Nice to have methods\n",
    "    def peek(self):\n",
    "        return self.items[len(self.items)-1]\n",
    "\n",
    "    def size(self):\n",
    "        return len(self.items)\n",
    "\n",
    "    def is_empty(self):\n",
    "        return self.items == []            "
   ]
  },
  {
   "cell_type": "code",
   "execution_count": 6,
   "id": "759bee7f-85c9-4475-8653-18a7319dee00",
   "metadata": {},
   "outputs": [],
   "source": [
    "# From scratch implementation of Stack\n",
    "\n",
    "class StackII:\n",
    "    class __Node:\n",
    "        def __init__(self, datum):\n",
    "            self.below = None\n",
    "            self.datum = datum\n",
    "\n",
    "        def __init__(self):\n",
    "            self.top = None\n",
    "\n",
    "        def push(self, datum):\n",
    "            # No matter what happens, we'll be adding a new element to our stack, so:\n",
    "            new_node = self.__Node(datum)\n",
    "            # Determine the state of the stack first:\n",
    "            if not self.top:\n",
    "                self.top = new_node\n",
    "            else:\n",
    "                new_node.below = self.top\n",
    "                self.top = new_node\n",
    "\n",
    "        def pop(self):\n",
    "            # Check the state of the stack first:\n",
    "            if self.top:\n",
    "                datum = self.top.datum\n",
    "                self.top = self.top.below\n",
    "                return datum\n",
    "            raise IndexError(\"Stack is empty\")\n",
    "\n",
    "        # Nice to have methods:\n",
    "        def peek(self):\n",
    "            # This can be solved in 0(1)\n",
    "            # Note: this allows us to return the topmost \"datum\" without removing it node.\n",
    "            return self.top.datum\n",
    "\n",
    "        def size(self):\n",
    "            # This can be solved in 0(n) without changes to the rest of the StackII class\n",
    "            # Note: this allows us to return the number of nodes in out StackII \n",
    "            # Extra Challenge: Make changes to the StackII (and other methods) such that this too runs in 0(1)\n",
    "            count = 0\n",
    "            current = self.top\n",
    "            while current:\n",
    "                current = current.below\n",
    "                count += 1\n",
    "            return count\n",
    "\n",
    "        def is_empty(self):\n",
    "            # This can be solved in 0(1).\n",
    "            # Note: This allows us to determine whether StackII is empty, returns True when it is and False otherwise.\n",
    "            return self.top == None"
   ]
  },
  {
   "cell_type": "markdown",
   "id": "d064df34-96d8-4d73-a6b8-0d0de7f64baa",
   "metadata": {},
   "source": [
    "# Problem 1\n",
    "\n",
    "Given a string, return it in inverse order.\n",
    "\n",
    "##  Criteria \n",
    "Your function `invert_str` must use one of the stack classes above (bonus points if it recieves it as a parameter) to invert the string.\n",
    "\n",
    "```\n",
    "Examples:\n",
    "rafael -> leafar\n",
    "rats -> star\n",
    "hello -> olleh\n",
    "```"
   ]
  },
  {
   "cell_type": "code",
   "execution_count": 2,
   "id": "241d2adb-e8b2-4974-8745-1c38232d2603",
   "metadata": {},
   "outputs": [],
   "source": [
    "# PsuedoCode\n",
    " \n",
    "# FUNCTION invert_str(input_string, stack)\n",
    "#    // Ensure stack is an instance of StackII\n",
    "#    // Push all characters of the input string onto the stack\n",
    "#    FOR each character in input_string\n",
    "#        stack.push(character)\n",
    "#    END FOR\n",
    "#     // Create an empty result string\n",
    "#    result = \"\"\n",
    "#    \n",
    "#    // Pop characters from the stack and append to result\n",
    "#    WHILE stack is not empty\n",
    "#            result = result + stack.pop()\n",
    "#    END WHILE\n",
    "#    \n",
    "#    RETURN result\n",
    "# END FUNCTION"
   ]
  },
  {
   "cell_type": "code",
   "execution_count": 17,
   "id": "c22fb96f-86bb-44f5-bc95-f118af32329b",
   "metadata": {},
   "outputs": [],
   "source": [
    "# Psuedocode Into Real Code Challenge\n",
    "\n",
    "def invert_str(input_string, stack):\n",
    "    stack = stack()\n",
    "    for char in input_string:\n",
    "        stack.push(char)\n",
    "    \n",
    "    result = \"\"\n",
    "    \n",
    "    while not stack.is_empty():\n",
    "        result += stack.pop()\n",
    "    return result"
   ]
  },
  {
   "cell_type": "code",
   "execution_count": 18,
   "id": "653dbbae-a308-440b-a656-7e48829819e9",
   "metadata": {},
   "outputs": [
    {
     "data": {
      "text/plain": [
       "'!dlrow ,olleH'"
      ]
     },
     "execution_count": 18,
     "metadata": {},
     "output_type": "execute_result"
    }
   ],
   "source": [
    "invert_str(\"Hello, world!\", Stack)"
   ]
  },
  {
   "cell_type": "code",
   "execution_count": 6,
   "id": "a92311d0-11a3-4fec-a95b-699fd4b9298a",
   "metadata": {},
   "outputs": [],
   "source": [
    "# homework assignment similar to how we produced stackII, build QueueII, an implementation that does not rely on built ins\n",
    "\n",
    "class Queue:\n",
    "    def __init__(self):\n",
    "        self.items = []\n",
    "\n",
    "    def enqueue(self, value):\n",
    "        self.items.insert(0, value)\n",
    "\n",
    "    def dequeue(self):\n",
    "        return self.items.pop()\n",
    "\n",
    "    # Nice to have methods:\n",
    "    def peek(self):\n",
    "        return self.items[len(self.items)-1]\n",
    "\n",
    "    def size(self):\n",
    "        return len(self.items)\n",
    "\n",
    "    def is_empty(self):\n",
    "        return self.items == []"
   ]
  },
  {
   "cell_type": "code",
   "execution_count": 1,
   "id": "314c5477-2de5-401d-84d2-bc29de3e24d0",
   "metadata": {},
   "outputs": [],
   "source": [
    "# CLASS 2 HOMEWORK: Build QueueII that doesnt rely on built-ins\n",
    "\n",
    "class QueueII:\n",
    "    class __Node:\n",
    "        def __init__(self, data ):\n",
    "            self.front = None\n",
    "            self.rear = None\n",
    "\n",
    "        def enqueue(self, data):\n",
    "            new_node = self.__Node(data)\n",
    "            if not self.front:\n",
    "                self.front = self.rear = new_node\n",
    "            else:\n",
    "                self.rear.next = new_node\n",
    "                self.rear = new_node\n",
    "\n",
    "        def dequeue(self):\n",
    "            if self.front:\n",
    "                data = self.front.data\n",
    "                self.front = self.front.next\n",
    "                if not self.front:\n",
    "                    self.rear = None\n",
    "                return data\n",
    "            raise IndexError(\"Queue is empty!\")\n",
    "\n",
    "        def peek(self):\n",
    "            if not self.front:\n",
    "                raise IndexError(\"Queue is empty!\")\n",
    "            else:\n",
    "                return self.front.data\n",
    "\n",
    "        def size(self):\n",
    "            count = 0\n",
    "            current = self.front\n",
    "            while current:\n",
    "                current = current.next\n",
    "                count += 1\n",
    "            return count\n",
    "\n",
    "        def is_empty(self):\n",
    "            return self.front == None"
   ]
  },
  {
   "cell_type": "markdown",
   "id": "8b1cb087-c4a6-4c60-af39-64d6efa129c6",
   "metadata": {},
   "source": [
    "# Research what is a Logarithm and how does it work?\n",
    "# Research what is the factorial of a number and how does that work?"
   ]
  },
  {
   "cell_type": "code",
   "execution_count": 9,
   "id": "9dcf3340-79a3-4807-a67c-0e829299eceb",
   "metadata": {},
   "outputs": [
    {
     "name": "stdout",
     "output_type": "stream",
     "text": [
      "Number1: 0; Number2: 0\n",
      "Number1: 0; Number2: 1\n",
      "Number1: 0; Number2: 2\n",
      "Hello\n",
      "Hello\n",
      "Hello\n",
      "Number1: 1; Number2: 0\n",
      "Number1: 1; Number2: 1\n",
      "Number1: 1; Number2: 2\n",
      "Hello\n",
      "Hello\n",
      "Hello\n",
      "Number1: 2; Number2: 0\n",
      "Number1: 2; Number2: 1\n",
      "Number1: 2; Number2: 2\n",
      "Hello\n",
      "Hello\n",
      "Hello\n"
     ]
    }
   ],
   "source": [
    "def myFunction(number1, number2):\n",
    "    for i in range(number1):\n",
    "        for j in range(number2):\n",
    "                print(\"Number1: %s; Number2: %s\" % (i, j))\n",
    "\n",
    "        for i in range(number1):\n",
    "            print(\"Hello\")\n",
    "\n",
    "myFunction(3, 3)\n",
    "\n",
    "# The time complexity is 0(n^2)\\"
   ]
  },
  {
   "cell_type": "code",
   "execution_count": 10,
   "id": "05fdb539-6e2b-459f-ba84-17b30f1faf06",
   "metadata": {},
   "outputs": [
    {
     "name": "stdout",
     "output_type": "stream",
     "text": [
      "11754056\n",
      "11754024\n"
     ]
    }
   ],
   "source": [
    "# Pass by value:\n",
    "x = 5\n",
    "y = x\n",
    "\n",
    "x += 1\n",
    "\n",
    "print(id(x))\n",
    "print(id(y))"
   ]
  },
  {
   "cell_type": "code",
   "execution_count": 11,
   "id": "c3679326-3866-4be2-a2b4-3b47ef577201",
   "metadata": {},
   "outputs": [
    {
     "name": "stdout",
     "output_type": "stream",
     "text": [
      "140245418011392\n",
      "140245418011392\n"
     ]
    }
   ],
   "source": [
    "# Pass by reference:\n",
    "x = [1, 2, 3]\n",
    "y = x\n",
    "\n",
    "x.append(4)\n",
    "\n",
    "print(id(x))\n",
    "print(id(y))"
   ]
  },
  {
   "cell_type": "code",
   "execution_count": null,
   "id": "70012d9a-dcd2-4efa-8208-da278a2f39db",
   "metadata": {},
   "outputs": [],
   "source": []
  }
 ],
 "metadata": {
  "kernelspec": {
   "display_name": "Python 3 (ipykernel)",
   "language": "python",
   "name": "python3"
  },
  "language_info": {
   "codemirror_mode": {
    "name": "ipython",
    "version": 3
   },
   "file_extension": ".py",
   "mimetype": "text/x-python",
   "name": "python",
   "nbconvert_exporter": "python",
   "pygments_lexer": "ipython3",
   "version": "3.12.3"
  }
 },
 "nbformat": 4,
 "nbformat_minor": 5
}
