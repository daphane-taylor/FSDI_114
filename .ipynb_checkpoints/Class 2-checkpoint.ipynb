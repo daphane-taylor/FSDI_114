{
 "cells": [
  {
   "cell_type": "markdown",
   "id": "6243c59d-8fc9-44ca-9258-06ad47ebfc44",
   "metadata": {},
   "source": [
    "# Stacks and Queues\n",
    "1. _*Stack*_: A stack is an ordered collection where items are added and removed from the _top_.<br>\n",
    "       - The ordering principle is represented by the acronym LIFO (_Last In, First Out_)<br>\n",
    "       - _Example_: A Pringles can, you can only add or remove chips from the top of the can.<br>\n",
    "       - Items at the top of the stack are referred to as the _top_ and items on the bottom the _base_.<br>\n",
    "       - Adding items in a stack (_via push_) adds an item to the top of the stack.<br>\n",
    "       - Deleting/Taking items Out of a stack (_via pop_) takes an item from the top and returns it to the user.<br><br> \n",
    "2. _*Queue*_: A Queue is an ordered collection where items are added at the back and removed from the front.<br>\n",
    "       -\n",
    "\n",
    "\n",
    "       "
   ]
  },
  {
   "cell_type": "code",
   "execution_count": 4,
   "id": "c2c46095-bdfd-4207-a340-de442d360f7c",
   "metadata": {},
   "outputs": [],
   "source": [
    "# Simplified implementation of Stack (relying on built-ins)\n",
    "\n",
    "class Stack:\n",
    "    def __init__(self):\n",
    "        self.items = []\n",
    "\n",
    "    def push(self, value):\n",
    "        self.items.append(value)\n",
    "\n",
    "    def pop(self):\n",
    "        return self.items.pop()\n",
    "\n",
    "    # Nice to have methods\n",
    "    def peek(self):\n",
    "        return self.items[len(self.items)-1]\n",
    "\n",
    "    def size(self):\n",
    "        return len(self.items)\n",
    "\n",
    "    def is_empty(self):\n",
    "        return self.items == []            "
   ]
  },
  {
   "cell_type": "code",
   "execution_count": 6,
   "id": "759bee7f-85c9-4475-8653-18a7319dee00",
   "metadata": {},
   "outputs": [],
   "source": [
    "# From scratch implementation of Stack\n",
    "\n",
    "class StackII:\n",
    "    class __Node:\n",
    "        def __init__(self, datum):\n",
    "            self.below = None\n",
    "            self.datum = datum\n",
    "\n",
    "        def __init__(self):\n",
    "            self.top = None\n",
    "\n",
    "        def push(self, datum):\n",
    "            # No matter what happens, we'll be adding a new element to our stack, so:\n",
    "            new_node = self.__Node(datum)\n",
    "            # Determine the state of the stack first:\n",
    "            if not self.top:\n",
    "                self.top = new_node\n",
    "            else:\n",
    "                new_node.below = self.top\n",
    "                self.top = new_node\n",
    "\n",
    "        def pop(self):\n",
    "            # Check the state of the stack first:\n",
    "            if self.top:\n",
    "                datum = self.top.datum\n",
    "                self.top = self.top.below\n",
    "                return datum\n",
    "            raise IndexError(\"Stack is empty\")\n",
    "\n",
    "        # Nice to have methods:\n",
    "        def peek(self):\n",
    "            # This can be solved in 0(1)\n",
    "            # Note: this allows us to return the topmost \"datum\" without removing it node.\n",
    "            pass\n",
    "\n",
    "        def size(self):\n",
    "            # This can be solved in 0(n) without changes to the rest of the StackII class\n",
    "            # Note: this allows us to return the number of nodes in out StackII \n",
    "            # Extra Challenge: Make changes to the StackII (and other methods) such that this too runs in 0(1)\n",
    "            pass\n",
    "\n",
    "        def is_empty(self):\n",
    "            # This can be solved in 0(1).\n",
    "            # Note: This allows us to determine whether StackII is empty, returns True when it is and False otherwise.\n",
    "            pass"
   ]
  },
  {
   "cell_type": "markdown",
   "id": "d064df34-96d8-4d73-a6b8-0d0de7f64baa",
   "metadata": {},
   "source": [
    "# Problem 1\n",
    "\n",
    "Given a string, return it in inverse order.\n",
    "\n",
    "##  Criteria \n",
    "Your function `invert_str` must use one of the stack classes above (bonus points if it recieves it as a parameter) to invert the string.\n",
    "\n",
    "```\n",
    "Examples:\n",
    "rafael -> leafar\n",
    "rats -> star\n",
    "hello -> olleh\n",
    "```"
   ]
  },
  {
   "cell_type": "code",
   "execution_count": 2,
   "id": "241d2adb-e8b2-4974-8745-1c38232d2603",
   "metadata": {},
   "outputs": [],
   "source": [
    "# PsuedoCode\n",
    " \n",
    "# FUNCTION invert_str(input_string, stack)\n",
    "#    // Ensure stack is an instance of StackII\n",
    "#    // Push all characters of the input string onto the stack\n",
    "#    FOR each character in input_string\n",
    "#        stack.push(character)\n",
    "#    END FOR\n",
    "#     // Create an empty result string\n",
    "#    result = \"\"\n",
    "#    \n",
    "#    // Pop characters from the stack and append to result\n",
    "#    WHILE stack is not empty\n",
    "#            result = result + stack.pop()\n",
    "#    END WHILE\n",
    "#    \n",
    "#    RETURN result\n",
    "# END FUNCTION"
   ]
  },
  {
   "cell_type": "code",
   "execution_count": 17,
   "id": "c22fb96f-86bb-44f5-bc95-f118af32329b",
   "metadata": {},
   "outputs": [],
   "source": [
    "# Psuedocode Into Real Code Challenge\n",
    "\n",
    "def invert_str(input_string, stack):\n",
    "    stack = stack()\n",
    "    for char in input_string:\n",
    "        stack.push(char)\n",
    "    \n",
    "    result = \"\"\n",
    "    \n",
    "    while not stack.is_empty():\n",
    "        result += stack.pop()\n",
    "    return result"
   ]
  },
  {
   "cell_type": "code",
   "execution_count": 18,
   "id": "653dbbae-a308-440b-a656-7e48829819e9",
   "metadata": {},
   "outputs": [
    {
     "data": {
      "text/plain": [
       "'!dlrow ,olleH'"
      ]
     },
     "execution_count": 18,
     "metadata": {},
     "output_type": "execute_result"
    }
   ],
   "source": [
    "invert_str(\"Hello, world!\", Stack)"
   ]
  },
  {
   "cell_type": "code",
   "execution_count": 6,
   "id": "a92311d0-11a3-4fec-a95b-699fd4b9298a",
   "metadata": {},
   "outputs": [],
   "source": [
    "# homework assignment similar to how we produced stackII, build QueueII, an implementation that does not rely on built ins\n",
    "\n",
    "class Queue:\n",
    "    def __init__(self):\n",
    "        self.items = []\n",
    "\n",
    "    def enqueue(self, value):\n",
    "        self.items.insert(0, value)\n",
    "\n",
    "    def dequeue(self):\n",
    "        return self.items.pop()\n",
    "\n",
    "    # Nice to have methods:\n",
    "    def peek(self):\n",
    "        return self.items[len(self.items)-1]\n",
    "\n",
    "    def size(self):\n",
    "        return len(self.items)\n",
    "\n",
    "    def is_empty(self):\n",
    "        return self.items == []"
   ]
  },
  {
   "cell_type": "code",
   "execution_count": 9,
   "id": "314c5477-2de5-401d-84d2-bc29de3e24d0",
   "metadata": {},
   "outputs": [],
   "source": [
    "# CLASS 2 HOMEWORK: Build QueueII that doesnt rely on built-ins\n",
    "\n",
    "class QueueII:\n",
    "    class __Node:\n",
    "        def __init__(self, selection):\n",
    "            self.below = None\n",
    "            self.selection = selection\n",
    "\n",
    "    def __init__(self):\n",
    "        self.top = None\n",
    "\n",
    "    def enqueue(self, selection):\n",
    "        new_selection = self.__Node(selection)\n",
    "        if not self.top:\n",
    "            self.top = new_selection\n",
    "        else:\n",
    "            current = self.top\n",
    "            while current.below:\n",
    "                current = current.below\n",
    "            current.below = new_selection\n",
    "\n",
    "        def dequeue(self):\n",
    "            if self.top:\n",
    "                selection = self.top.selection\n",
    "                self.top = self.top.below\n",
    "                return selection\n",
    "            raise IndexError(\"Queue is empty\")"
   ]
  },
  {
   "cell_type": "code",
   "execution_count": null,
   "id": "f7eb07b8-14a2-474a-87c2-c9c3722a65a4",
   "metadata": {},
   "outputs": [],
   "source": []
  }
 ],
 "metadata": {
  "kernelspec": {
   "display_name": "Python 3 (ipykernel)",
   "language": "python",
   "name": "python3"
  },
  "language_info": {
   "codemirror_mode": {
    "name": "ipython",
    "version": 3
   },
   "file_extension": ".py",
   "mimetype": "text/x-python",
   "name": "python",
   "nbconvert_exporter": "python",
   "pygments_lexer": "ipython3",
   "version": "3.12.3"
  }
 },
 "nbformat": 4,
 "nbformat_minor": 5
}
